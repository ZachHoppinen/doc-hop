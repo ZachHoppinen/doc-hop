{
 "cells": [
  {
   "cell_type": "code",
   "execution_count": null,
   "metadata": {},
   "outputs": [],
   "source": [
    "import numpy as np\n",
    "import matplotlib.pyplot as plt\n",
    "import pandas as pd"
   ]
  },
  {
   "cell_type": "code",
   "execution_count": null,
   "metadata": {},
   "outputs": [],
   "source": [
    "x = np.array([4,9,16,25])\n",
    "y = np.array([5.6590, 2.6674, 1.0080])"
   ]
  },
  {
   "cell_type": "code",
   "execution_count": null,
   "metadata": {},
   "outputs": [],
   "source": [
    "df = pd.DataFrame()"
   ]
  },
  {
   "cell_type": "code",
   "execution_count": null,
   "metadata": {},
   "outputs": [],
   "source": [
    "df.loc['240x240 Run Time',[1,4,9,16,25]] = [0.060000, 0.0162,  0.0086, 0.0062, 0.0054]\n",
    "df.loc['1600x1600 Run Time',[1,4,9,16,25]] = [18.200000,5.6794, 2.6721, 1.415, 1.0069]\n",
    "df.loc['4800x4800 Run Time',[1,4,9,16,25]] = [491.620000,167.5583, 82.0038, 45.8354, 31.9586]"
   ]
  },
  {
   "cell_type": "code",
   "execution_count": null,
   "metadata": {},
   "outputs": [],
   "source": [
    "f, ax = plt.subplots(figsize = (12,8))\n",
    "df.T.plot(ax = ax)\n",
    "plt.scatter(df.T.index, df.T['240x240 Run Time'], marker = 'x')\n",
    "plt.scatter(df.T.index, df.T['1600x1600 Run Time'], marker = 'x')\n",
    "plt.scatter(df.T.index, df.T['4800x4800 Run Time'], marker = 'x')\n",
    "\n",
    "plt.xlabel(\"Processors\")\n",
    "plt.ylabel(\"Execution Time (s)\")\n",
    "plt.yscale(\"log\")\n",
    "plt.title(\"Cannon's MPI Execution Time\")"
   ]
  },
  {
   "cell_type": "code",
   "execution_count": null,
   "metadata": {},
   "outputs": [],
   "source": [
    "f, ax = plt.subplots(figsize = (12,8))\n",
    "speed = df.T.iloc[0].div(df.T)\n",
    "speed.plot(ax = ax)\n",
    "plt.scatter(speed.index, speed['240x240 Run Time'], marker = 'x')\n",
    "plt.scatter(speed.index, speed['1600x1600 Run Time'], marker = 'x')\n",
    "plt.scatter(speed.index, speed['4800x4800 Run Time'], marker = 'x')\n",
    "ideal = range(1, 29)\n",
    "plt.plot(ideal, ideal, label = 'Ideal Speed Up', linestyle = 'dashed', color = 'black')\n",
    "plt.xlabel(\"Processors\")\n",
    "plt.ylabel(\"Speedup\")\n",
    "plt.yscale(\"log\")\n",
    "plt.xscale(\"log\")\n",
    "plt.legend()\n",
    "plt.title(\"Cannon's MPI Speed-Up\")"
   ]
  },
  {
   "cell_type": "code",
   "execution_count": null,
   "metadata": {},
   "outputs": [],
   "source": []
  }
 ],
 "metadata": {
  "kernelspec": {
   "display_name": "Python 3.9.13 ('cs530')",
   "language": "python",
   "name": "python3"
  },
  "language_info": {
   "codemirror_mode": {
    "name": "ipython",
    "version": 3
   },
   "file_extension": ".py",
   "mimetype": "text/x-python",
   "name": "python",
   "nbconvert_exporter": "python",
   "pygments_lexer": "ipython3",
   "version": "3.9.13"
  },
  "orig_nbformat": 4,
  "vscode": {
   "interpreter": {
    "hash": "e304e5f3de478554bba5dd8d06b0ac13aa61d2f18a4e7f1ad07bc237698e1b9e"
   }
  }
 },
 "nbformat": 4,
 "nbformat_minor": 2
}
