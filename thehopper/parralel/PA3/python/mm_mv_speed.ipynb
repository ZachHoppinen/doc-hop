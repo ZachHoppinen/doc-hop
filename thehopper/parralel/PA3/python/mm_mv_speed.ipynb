{
 "cells": [
  {
   "cell_type": "code",
   "execution_count": null,
   "metadata": {},
   "outputs": [],
   "source": [
    "import numpy as np\n",
    "import pandas as pd\n",
    "import matplotlib.pyplot as plt"
   ]
  },
  {
   "cell_type": "code",
   "execution_count": null,
   "metadata": {},
   "outputs": [],
   "source": [
    "log_f = '/home/zacharykeskinen/CS430-TeamE/PA3/slurms/logs/mm.log'\n",
    "with open(log_f) as f:\n",
    "    lns = f.readlines()"
   ]
  },
  {
   "cell_type": "code",
   "execution_count": null,
   "metadata": {},
   "outputs": [],
   "source": [
    "df = pd.DataFrame()\n",
    "for l in lns:\n",
    "    if '-' in l and '--------------------' not in l:\n",
    "        if 'SMALL' not in l:\n",
    "            for k, v in res.items():\n",
    "                df.loc[k, size] = v\n",
    "        size = l.replace('-','').replace('\\n','').upper()\n",
    "        res = {}\n",
    "    if 'nodes' in l:\n",
    "        nodes = l.replace(' nodes\\n','')\n",
    "    elif 's\\n' in l:\n",
    "        res[int(nodes)] = float(l.replace('s\\n',''))\n",
    "for k, v in res.items():\n",
    "    df.loc[k, size] = v\n",
    "df.loc[1, 'SMALL'] = 0.060000\n",
    "df.loc[1, 'MEDIUM'] = 18.200000\n",
    "df.loc[1, 'LARGE'] = 491.620000\n",
    "df = df.sort_index()\n",
    "df = df.rename({'SMALL':'240x240 Run Time','MEDIUM':'1600x1600 Run Time','LARGE':'4800x4800 Run Time'}, axis =1 )"
   ]
  },
  {
   "cell_type": "code",
   "execution_count": null,
   "metadata": {},
   "outputs": [],
   "source": [
    "f, ax = plt.subplots(figsize = (12,8))\n",
    "df.plot(ax = ax)\n",
    "plt.scatter(df.index, df['240x240 Run Time'], marker = 'x')\n",
    "plt.scatter(df.index, df['1600x1600 Run Time'], marker = 'x')\n",
    "plt.scatter(df.index, df['4800x4800 Run Time'], marker = 'x')\n",
    "\n",
    "plt.xlabel(\"Processors\")\n",
    "plt.ylabel(\"Execution Time (s)\")\n",
    "plt.yscale(\"log\")\n",
    "plt.title(\"Matrix-Matrix Multiplication MPI Execution Time\")"
   ]
  },
  {
   "cell_type": "code",
   "execution_count": null,
   "metadata": {},
   "outputs": [],
   "source": [
    "f, ax = plt.subplots(figsize = (12,8))\n",
    "speed = df.iloc[0].div(df)\n",
    "speed.plot(ax = ax)\n",
    "plt.scatter(speed.index, speed['240x240 Run Time'], marker = 'x')\n",
    "plt.scatter(speed.index, speed['1600x1600 Run Time'], marker = 'x')\n",
    "plt.scatter(speed.index, speed['4800x4800 Run Time'], marker = 'x')\n",
    "ideal = range(1, 29)\n",
    "plt.plot(ideal, ideal, label = 'Ideal Speed Up', linestyle = 'dashed', color = 'black')\n",
    "plt.xlabel(\"Processors\")\n",
    "plt.ylabel(\"Speedup\")\n",
    "plt.yscale(\"log\")\n",
    "plt.xscale(\"log\")\n",
    "plt.legend()\n",
    "plt.title(\"Matrix Matrix Multiplication MPI Speed-Up\")"
   ]
  },
  {
   "cell_type": "code",
   "execution_count": null,
   "metadata": {},
   "outputs": [],
   "source": [
    "log_f = '/home/zacharykeskinen/CS430-TeamE/PA3/slurms/logs/mv.log'\n",
    "with open(log_f) as f:\n",
    "    lns = f.readlines()"
   ]
  },
  {
   "cell_type": "code",
   "execution_count": null,
   "metadata": {},
   "outputs": [],
   "source": [
    "df = pd.DataFrame()\n",
    "for l in lns:\n",
    "    if '-' in l and '--------------------' not in l:\n",
    "        if 'SMALL' not in l:\n",
    "            for k, v in res.items():\n",
    "                df.loc[k, size] = v\n",
    "        size = l.replace('-','').replace('\\n','').upper()\n",
    "        res = {}\n",
    "    if 'nodes' in l:\n",
    "        nodes = l.replace(' nodes\\n','')\n",
    "    elif 'Time taken' in l:\n",
    "        res[int(nodes)] = float(l.split(' ')[-2]) * 1e-6\n",
    "for k, v in res.items():\n",
    "    df.loc[k, size] = v\n",
    "df.loc[1, 'SMALL'] = 0.0005\n",
    "df.loc[1, 'MEDIUM'] = 0.01\n",
    "df.loc[1, 'LARGE'] = 0.14\n",
    "df = df.sort_index()\n",
    "df = df.rename({'SMALL':'240x240 Run Time','MEDIUM':'1600x1600 Run Time','LARGE':'4800x4800 Run Time'}, axis =1 )"
   ]
  },
  {
   "cell_type": "code",
   "execution_count": null,
   "metadata": {},
   "outputs": [],
   "source": [
    "f, ax = plt.subplots(figsize = (12,8))\n",
    "df.plot(ax = ax)\n",
    "plt.scatter(df.index, df['240x240 Run Time'], marker = 'x')\n",
    "plt.scatter(df.index, df['1600x1600 Run Time'], marker = 'x')\n",
    "plt.scatter(df.index, df['4800x4800 Run Time'], marker = 'x')\n",
    "\n",
    "plt.xlabel(\"Processors\")\n",
    "plt.ylabel(\"Execution Time (s)\")\n",
    "plt.yscale(\"log\")\n",
    "plt.title(\"Matrix-Vector Multiplication MPI Execution Time\")"
   ]
  },
  {
   "cell_type": "code",
   "execution_count": null,
   "metadata": {},
   "outputs": [],
   "source": [
    "f, ax = plt.subplots(figsize = (12,8))\n",
    "speed = df.iloc[0].div(df)\n",
    "speed.plot(ax = ax)\n",
    "plt.scatter(speed.index, speed['240x240 Run Time'], marker = 'x')\n",
    "plt.scatter(speed.index, speed['1600x1600 Run Time'], marker = 'x')\n",
    "plt.scatter(speed.index, speed['4800x4800 Run Time'], marker = 'x')\n",
    "ideal = range(1, 29)\n",
    "plt.plot(ideal, ideal, label = 'Ideal Speed Up', linestyle = 'dashed', color = 'black')\n",
    "plt.xlabel(\"Processors\")\n",
    "plt.ylabel(\"Speedup\")\n",
    "plt.yscale(\"log\")\n",
    "plt.xscale(\"log\")\n",
    "plt.legend()\n",
    "plt.title(\"Matrix Vector Multiplication MPI Speed-Up\")"
   ]
  },
  {
   "cell_type": "code",
   "execution_count": null,
   "metadata": {},
   "outputs": [],
   "source": []
  }
 ],
 "metadata": {
  "kernelspec": {
   "display_name": "Python 3.9.13 ('cs530')",
   "language": "python",
   "name": "python3"
  },
  "language_info": {
   "codemirror_mode": {
    "name": "ipython",
    "version": 3
   },
   "file_extension": ".py",
   "mimetype": "text/x-python",
   "name": "python",
   "nbconvert_exporter": "python",
   "pygments_lexer": "ipython3",
   "version": "3.9.13"
  },
  "orig_nbformat": 4,
  "vscode": {
   "interpreter": {
    "hash": "e304e5f3de478554bba5dd8d06b0ac13aa61d2f18a4e7f1ad07bc237698e1b9e"
   }
  }
 },
 "nbformat": 4,
 "nbformat_minor": 2
}
