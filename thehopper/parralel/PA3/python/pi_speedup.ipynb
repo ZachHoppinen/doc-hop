{
 "cells": [
  {
   "cell_type": "code",
   "execution_count": null,
   "metadata": {},
   "outputs": [],
   "source": [
    "import numpy as np\n",
    "import matplotlib.pyplot as plt\n",
    "import pandas as pd"
   ]
  },
  {
   "cell_type": "code",
   "execution_count": null,
   "metadata": {},
   "outputs": [],
   "source": [
    "with open('/home/zacharykeskinen/CS430-TeamE/PA3/slurms/logs/pi_leibniz-413063.log', 'r') as f:\n",
    "    lns = f.readlines()\n",
    "\n",
    "df = pd.DataFrame()\n",
    "j = 0\n",
    "for l in lns[10:]:\n",
    "    if 'Running with' in l:\n",
    "        if j != 0:\n",
    "            for k, v in res.items():\n",
    "                df.loc[num_proc, k] = v\n",
    "        res = {}\n",
    "        num_proc = int(l.split(' ')[-1].replace('\\n',''))\n",
    "        i = 10000\n",
    "        j = 1\n",
    "    elif 'Running' in l and 'with' not in l:\n",
    "        i = int(l.split(' ')[1].replace('\\n',''))\n",
    "    elif 'Time' in l:\n",
    "        res[i] = float(l.split(' ')[1].replace('s\\n',''))\n",
    "\n",
    "serial_res = {}\n",
    "for l in lns[:10]:\n",
    "    if 'Running' in l:\n",
    "        size = int(l.replace('Running ','').replace('\\n',''))\n",
    "    elif 'run time' in l:\n",
    "        l = l.replace('Serial run time: ','')\n",
    "        serial_res[size] = float(l.replace(' seconds\\n',''))\n",
    "for k, v in serial_res.items():\n",
    "    df.loc[1, k] = v\n",
    "\n",
    "df = df.sort_index()\n",
    "df = df.rename({10000:'10,000 Leibniz Terms', 1000000: '1 Million Leibniz Terms', 20000000000: '20 Billion Leibniz Terms'}, axis = 1)"
   ]
  },
  {
   "cell_type": "code",
   "execution_count": null,
   "metadata": {},
   "outputs": [],
   "source": [
    "f, ax = plt.subplots(figsize = (12,8))\n",
    "df.plot(ax = ax)\n",
    "plt.scatter(df.index, df['10,000 Leibniz Terms'], marker = 'x')\n",
    "plt.scatter(df.index, df['1 Million Leibniz Terms'], marker = 'x')\n",
    "plt.scatter(df.index, df['20 Billion Leibniz Terms'], marker = 'x')\n",
    "\n",
    "plt.xlabel(\"Processors\")\n",
    "plt.ylabel(\"Execution Time (s)\")\n",
    "plt.yscale(\"log\")\n",
    "plt.title(\"Pi Leibniz MPI Execution Time\")"
   ]
  },
  {
   "cell_type": "code",
   "execution_count": null,
   "metadata": {},
   "outputs": [],
   "source": [
    "f, ax = plt.subplots(figsize = (12,8))\n",
    "speed = df.iloc[0].div(df)\n",
    "speed.plot(ax = ax)\n",
    "plt.scatter(speed.index, speed['10,000 Leibniz Terms'], marker = 'x')\n",
    "plt.scatter(speed.index, speed['1 Million Leibniz Terms'], marker = 'x')\n",
    "plt.scatter(speed.index, speed['20 Billion Leibniz Terms'], marker = 'x')\n",
    "ideal = range(1, 28)\n",
    "plt.plot(ideal, ideal, label = 'Ideal Speed Up', linestyle = 'dashed', color = 'black')\n",
    "plt.xlabel(\"Processors\")\n",
    "plt.ylabel(\"Speedup\")\n",
    "plt.yscale(\"log\")\n",
    "plt.xscale(\"log\")\n",
    "plt.legend()\n",
    "plt.title(\"Pi Leibniz's MPI Speed-Up\")"
   ]
  },
  {
   "cell_type": "markdown",
   "metadata": {},
   "source": [
    "# Pi MC"
   ]
  },
  {
   "cell_type": "code",
   "execution_count": null,
   "metadata": {},
   "outputs": [],
   "source": [
    "with open('/home/zacharykeskinen/CS430-TeamE/PA3/slurms/logs/pi_mc-413062.log', 'r') as f:\n",
    "    lns = f.readlines()\n",
    "\n",
    "df = pd.DataFrame()\n",
    "j = 0\n",
    "for l in lns[13:]:\n",
    "    if 'Running with' in l:\n",
    "        if j != 0:\n",
    "            for k, v in res.items():\n",
    "                df.loc[num_proc, k] = v\n",
    "        res = {}\n",
    "        num_proc = int(l.split(' ')[-1].replace('\\n',''))\n",
    "        i = 10000\n",
    "        j = 1\n",
    "    elif 'Running' in l and 'with' not in l:\n",
    "        i = int(l.split(' ')[1].replace('\\n',''))\n",
    "    elif 'Time' in l:\n",
    "        res[i] = float(l.split(' ')[1].replace('s\\n',''))\n",
    "\n",
    "serial_res = {}\n",
    "for l in lns[:13]:\n",
    "    if 'Running' in l:\n",
    "        size = int(l.replace('Running ','').replace('\\n',''))\n",
    "    elif 'run time' in l:\n",
    "        l = l.replace('Serial run time: ','')\n",
    "        serial_res[size] = float(l.replace(' seconds\\n',''))\n",
    "for k, v in serial_res.items():\n",
    "    df.loc[1, k] = v\n",
    "df = df.sort_index()\n",
    "df = df.rename({10000:'10,000 Values', 1000000: '1 Million Values', 20000000000: '20 Billion Values'}, axis = 1)"
   ]
  },
  {
   "cell_type": "code",
   "execution_count": null,
   "metadata": {},
   "outputs": [],
   "source": [
    "f, ax = plt.subplots(figsize = (12,8))\n",
    "df.plot(ax = ax)\n",
    "plt.scatter(df.index, df['10,000 Values'], marker = 'x')\n",
    "plt.scatter(df.index, df['1 Million Values'], marker = 'x')\n",
    "plt.scatter(df.index, df['20 Billion Values'], marker = 'x')\n",
    "\n",
    "plt.xlabel(\"Processors\")\n",
    "plt.ylabel(\"Execution Time (s)\")\n",
    "plt.yscale(\"log\")\n",
    "plt.title(\"Pi Monte Carlo MPI Execution Time\")"
   ]
  },
  {
   "cell_type": "code",
   "execution_count": null,
   "metadata": {},
   "outputs": [],
   "source": [
    "f, ax = plt.subplots(figsize = (12,8))\n",
    "speed = df.iloc[0].div(df)\n",
    "speed.plot(ax = ax)\n",
    "plt.scatter(speed.index, speed['10,000 Values'], marker = 'x')\n",
    "plt.scatter(speed.index, speed['1 Million Values'], marker = 'x')\n",
    "plt.scatter(speed.index, speed['20 Billion Values'], marker = 'x')\n",
    "ideal = range(1, 29)\n",
    "plt.plot(ideal, ideal, label = 'Ideal Speed Up', linestyle = 'dashed', color = 'black')\n",
    "plt.xlabel(\"Processors\")\n",
    "plt.ylabel(\"Speedup\")\n",
    "plt.yscale(\"log\")\n",
    "plt.xscale(\"log\")\n",
    "plt.legend()\n",
    "plt.title(\"Pi Monte Carlo's MPI Speed-Up\")"
   ]
  },
  {
   "cell_type": "code",
   "execution_count": null,
   "metadata": {},
   "outputs": [],
   "source": []
  }
 ],
 "metadata": {
  "kernelspec": {
   "display_name": "Python 3.9.13 ('cs530')",
   "language": "python",
   "name": "python3"
  },
  "language_info": {
   "codemirror_mode": {
    "name": "ipython",
    "version": 3
   },
   "file_extension": ".py",
   "mimetype": "text/x-python",
   "name": "python",
   "nbconvert_exporter": "python",
   "pygments_lexer": "ipython3",
   "version": "3.9.13"
  },
  "orig_nbformat": 4,
  "vscode": {
   "interpreter": {
    "hash": "e304e5f3de478554bba5dd8d06b0ac13aa61d2f18a4e7f1ad07bc237698e1b9e"
   }
  }
 },
 "nbformat": 4,
 "nbformat_minor": 2
}
