{
 "cells": [
  {
   "cell_type": "code",
   "execution_count": 7,
   "metadata": {},
   "outputs": [],
   "source": [
    "import re\n",
    "import pandas as pd\n",
    "import numpy as np\n",
    "import pickle\n",
    "from os.path import join"
   ]
  },
  {
   "cell_type": "code",
   "execution_count": 8,
   "metadata": {},
   "outputs": [],
   "source": [
    "mm_time_fp = '/Users/zachkeskinen/Documents/class/CS430-TeamE/PA2/etc/matrixmatrix.txt'"
   ]
  },
  {
   "cell_type": "code",
   "execution_count": 9,
   "metadata": {},
   "outputs": [],
   "source": [
    "with open(mm_time_fp, 'r') as f:\n",
    "    lns = f.readlines()"
   ]
  },
  {
   "cell_type": "code",
   "execution_count": 10,
   "metadata": {},
   "outputs": [],
   "source": [
    "secs = {}\n",
    "for ln in lns:\n",
    "    ln = ln.replace('\\n', '')\n",
    "    if re.match(\"Using\", ln):\n",
    "        k = int(ln.split(' ')[1])\n",
    "        secs[k] = {}\n",
    "    else:\n",
    "        if re.match(\"test\", ln):\n",
    "            k2 = ln\n",
    "            secs[k][k2] = []\n",
    "        else:\n",
    "            secs[k][k2].append(ln)"
   ]
  },
  {
   "cell_type": "code",
   "execution_count": 11,
   "metadata": {},
   "outputs": [],
   "source": [
    "res = {'100x100':pd.DataFrame(), '50x50':pd.DataFrame(), '10x10':pd.DataFrame()}\n",
    "for threads, run in secs.items():\n",
    "    # print(f'Threads: {threads}')\n",
    "    for size, times in run.items():\n",
    "        size_name = size.split(' ')[0].replace('test-','')\n",
    "        # print(f'Matrix size: {size_name}')\n",
    "        p = False\n",
    "        j = 0\n",
    "        if size_name in res.keys():\n",
    "            for time in times:\n",
    "                if p and 'Average' not in time:\n",
    "                    try:\n",
    "                        res[size_name].loc[threads, j] = int(time)\n",
    "                    except:\n",
    "                        pass\n",
    "                    j += 1\n",
    "                if time == 'parallel times:':\n",
    "                    p = True"
   ]
  },
  {
   "cell_type": "code",
   "execution_count": 12,
   "metadata": {},
   "outputs": [],
   "source": [
    "res_serial = {'100x100':pd.DataFrame(), '50x50':pd.DataFrame(), '10x10':pd.DataFrame()}\n",
    "for threads, run in secs.items():\n",
    "    # print(f'Threads: {threads}')\n",
    "    for size, times in run.items():\n",
    "        size_name = size.split(' ')[0].replace('test-','')\n",
    "        # print(f'Matrix size: {size_name}')\n",
    "        p = False\n",
    "        j = 0\n",
    "        if size_name in res_serial.keys():\n",
    "            if time == 'parallel times:':\n",
    "                    p = True\n",
    "            for time in times:\n",
    "                if not p and 'Average' not in time:\n",
    "                    try:\n",
    "                        res_serial[size_name].loc[threads, j] = int(time)\n",
    "                    except:\n",
    "                        pass\n",
    "                    j += 1"
   ]
  },
  {
   "cell_type": "code",
   "execution_count": 13,
   "metadata": {},
   "outputs": [],
   "source": [
    "pkl_dir = '/Users/zachkeskinen/Documents/class/CS430-TeamE/PA2/python'\n",
    "with open(join(pkl_dir, 'mm_times.pkl'), 'wb') as f:\n",
    "    pickle.dump(res, f)\n",
    "\n",
    "pkl_dir = '/Users/zachkeskinen/Documents/class/CS430-TeamE/PA2/python'\n",
    "with open(join(pkl_dir, 'mm_times_serial.pkl'), 'wb') as f:\n",
    "    pickle.dump(res_serial, f)"
   ]
  },
  {
   "cell_type": "code",
   "execution_count": null,
   "metadata": {},
   "outputs": [],
   "source": []
  }
 ],
 "metadata": {
  "kernelspec": {
   "display_name": "Python 3.6.8 64-bit",
   "language": "python",
   "name": "python3"
  },
  "language_info": {
   "codemirror_mode": {
    "name": "ipython",
    "version": 3
   },
   "file_extension": ".py",
   "mimetype": "text/x-python",
   "name": "python",
   "nbconvert_exporter": "python",
   "pygments_lexer": "ipython3",
   "version": "3.6.8"
  },
  "orig_nbformat": 4,
  "vscode": {
   "interpreter": {
    "hash": "31f2aee4e71d21fbe5cf8b01ff0e069b9275f58929596ceb00d14d90e3e16cd6"
   }
  }
 },
 "nbformat": 4,
 "nbformat_minor": 2
}
